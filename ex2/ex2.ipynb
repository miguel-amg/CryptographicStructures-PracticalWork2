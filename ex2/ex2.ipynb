{
 "cells": [
  {
   "cell_type": "markdown",
   "metadata": {},
   "source": [
    "# Estruturas criptográficas 2024-2025\n",
    "**Grupo 02**\n",
    "\n",
    "**Pg55986:** Miguel Ângelo Martins Guimarães \n",
    "\n",
    "**Pg55997:** Pedro Miguel Oliveira Carvalho "
   ]
  },
  {
   "cell_type": "markdown",
   "metadata": {},
   "source": [
    "## Setup"
   ]
  },
  {
   "cell_type": "markdown",
   "metadata": {},
   "source": [
    "### Imports"
   ]
  },
  {
   "cell_type": "code",
   "execution_count": 1,
   "metadata": {
    "vscode": {
     "languageId": "python"
    }
   },
   "outputs": [],
   "source": [
    "# Imports\n",
    "from sage.all import *\n",
    "import secrets\n",
    "from cryptography.hazmat.primitives import hashes"
   ]
  },
  {
   "cell_type": "code",
   "execution_count": 2,
   "metadata": {
    "vscode": {
     "languageId": "python"
    }
   },
   "outputs": [],
   "source": [
    "# Parametros para a curva edwards22519\n",
    "p = 2^255-19\n",
    "K = GF(p)\n",
    "a = K(-1)\n",
    "d = -K(121665)/K(121666)\n",
    "\n",
    "ed25519 = {\n",
    "    'b'  : 256,\n",
    "    'Px' : K(15112221349535400772501151409588531511454012693041857206046113283949847762202),\n",
    "    'Py' : K(46316835694926478169428394003475163141307993866256225615783033603165251855960),\n",
    "    'L'  : ZZ(2^252 + 27742317777372353535851937790883648493), ## ordem do subgrupo primo\n",
    "    'n'  : 254,\n",
    "    'h'  : 8\n",
    "}"
   ]
  },
  {
   "cell_type": "markdown",
   "metadata": {},
   "source": [
    "### Setup do programa"
   ]
  },
  {
   "cell_type": "code",
   "execution_count": 3,
   "metadata": {
    "vscode": {
     "languageId": "python"
    }
   },
   "outputs": [],
   "source": [
    "##########################\n",
    "# Parametros / setup\n",
    "debug = True\n",
    "##########################"
   ]
  },
  {
   "cell_type": "markdown",
   "metadata": {},
   "source": [
    "## Definição de classes"
   ]
  },
  {
   "cell_type": "markdown",
   "metadata": {},
   "source": [
    "### Classe da curva de edwards"
   ]
  },
  {
   "cell_type": "code",
   "execution_count": 4,
   "metadata": {
    "vscode": {
     "languageId": "python"
    }
   },
   "outputs": [],
   "source": [
    "# Classe de criação de curva de edwards/weiterstrass. \n",
    "# É necessario utilizar as curvas de weiterstrass porque o sagemath já as implementa, entao podemos utilizar para definir curvas de edwards assim.\n",
    "class Ed(object):\n",
    "    # Construtor da classe que prepara alguns parametros auxiliares\n",
    "    def __init__(self, p, a, d, ed = None):\n",
    "        # Garantir que 'a' e 'd' são diferentes, e que 'p' é um numero primo grande\n",
    "        assert a != d and is_prime(p) and p > 3\n",
    "        \n",
    "        # Criar um corpo finito modulo p (permite realizar varias operações)\n",
    "        K = GF(p) \n",
    "  \n",
    "        # Valores que permitem mapear a curva de edwards para weiterstrass\n",
    "        A =  2*(a + d)/(a - d)\n",
    "        B =  4/(a - d)\n",
    "        alfa = A/(3*B)  \n",
    "        s = B\n",
    "\n",
    "        # Coeficientes na curva de weiterstrass (y^2 = x^3 + a4 * x + a6)\n",
    "        a4 = s^(-2) - 3*alfa^2\n",
    "        a6 = -alfa^3 - a4*alfa\n",
    "        \n",
    "        # Parametros para a criação da curva \n",
    "        self.K = K # Guardar o corpo finito\n",
    "        self.constants = {'a': a , 'd': d , 'A':A , 'B':B , 'alfa':alfa , 's':s , 'a4':a4 , 'a6':a6 }\n",
    "        self.EC = EllipticCurve(K,[a4,a6]) # Criação da curva eliptica na forma de weiterstrass \n",
    "        \n",
    "        # Se forem fornecidos parametros como input\n",
    "        if ed != None:\n",
    "            self.L = ed['L'] # Obter o L apartir do dicionario\n",
    "            self.P = self.ed2ec(ed['Px'],ed['Py']) # Criar um gerador de pontos de weiterstrass a partir dos pontos de edwards fornecidos\n",
    "        else:\n",
    "            self.gen() # Gera aleatoriamente um ponto na curva que sirva de gerador\n",
    "    \n",
    "    # Devolve a ordem prima \"n\" do maior subgrupo da curva, e o respetivo cofator \"h\" \n",
    "    def order(self):\n",
    "        oo = self.EC.order() # Numero total de pontos na curva\n",
    "        n,_ = list(factor(oo))[-1] # Obter fatores\n",
    "        return (n,oo//n) # Retorna o maior subgrupo primo e o cofator\n",
    "    \n",
    "    # Gera aleatoriamente um ponto na curva que sirva de gerador\n",
    "    def gen(self):\n",
    "        L, h = self.order()       \n",
    "        P = O = self.EC(0)\n",
    "        while L*P == O:\n",
    "            P = self.EC.random_element()\n",
    "        self.P = h*P ; self.L = L\n",
    "  \n",
    "    # Função que verifica se um ponto pertence á curva de edwards\n",
    "    def is_edwards(self, x, y):\n",
    "        a = self.constants['a'] # Obter o valor de a declarado (parametro da curva)\n",
    "        d = self.constants['d'] # Obter o valor de d declarado (parametro da curva)\n",
    "        x2 = x^2 # Calcular o valor de x ao quadrado  \n",
    "        y2 = y^2 # Calculcar o valor de y ao quadrado\n",
    "        return a*x2 + y2 == 1 + d*x2*y2 # Equação da curva de twisted edwards curves (a * x^2 + y^2 = 1 + d * x^2 * y^2)\n",
    "\n",
    "    # Passa um ponto de curva de edwards para um ponto de curva de ec\n",
    "    def ed2ec(self,x,y):      \n",
    "        if (x,y) == (0,1):\n",
    "            return self.EC(0)\n",
    "        z = (1+y)/(1-y) \n",
    "        w = z/x\n",
    "        alfa = self.constants['alfa']\n",
    "        s = self.constants['s']\n",
    "        return self.EC(z/s + alfa , w/s)\n",
    "    \n",
    "    # Passa um ponto de curva de ec para curva de edwards\n",
    "    def ec2ed(self,P):    \n",
    "        if P == self.EC(0):\n",
    "            return (0,1)\n",
    "        x,y = P.xy() # Obter o valor x e y\n",
    "        alfa = self.constants['alfa']\n",
    "        s = self.constants['s']\n",
    "        u = s*(x - alfa)  \n",
    "        v = s*y\n",
    "        return (u/v , (u-1)/(u+1))"
   ]
  },
  {
   "cell_type": "markdown",
   "metadata": {},
   "source": [
    "### Classe dos pontos das curvas de edwards"
   ]
  },
  {
   "cell_type": "code",
   "execution_count": 5,
   "metadata": {
    "vscode": {
     "languageId": "python"
    }
   },
   "outputs": [],
   "source": [
    "# Points class of ED\n",
    "class ed(object):\n",
    "    def __init__(self,pt=None,curve=None,x=None,y=None):\n",
    "        if pt != None:\n",
    "            self.curve = pt.curve\n",
    "            self.x = pt.x ; self.y = pt.y ; self.w = pt.w\n",
    "        else:\n",
    "            assert isinstance(curve,Ed) and curve.is_edwards(x,y)\n",
    "            self.curve = curve\n",
    "            self.x = x ; self.y = y ; self.w = x*y\n",
    "    \n",
    "    # Verifica se dois pontos são equivalentes\n",
    "    def eq(self,other):\n",
    "        return self.x == other.x and self.y == other.y\n",
    "    \n",
    "    # Devolve uma copia do ponto atual\n",
    "    def copy(self):\n",
    "        return ed(curve=self.curve, x=self.x, y=self.y)\n",
    "    \n",
    "    # Devolve o ponto zero\n",
    "    def zero(self):\n",
    "        return ed(curve=self.curve,x=0,y=1)\n",
    "    \n",
    "    # Devolve o ponto simetrico\n",
    "    def sim(self):\n",
    "        return ed(curve=self.curve, x= -self.x, y= self.y)\n",
    "\n",
    "    # Soma de dois pontos    \n",
    "    def soma(self, other):\n",
    "        a = self.curve.constants['a']; d = self.curve.constants['d']\n",
    "        delta = d*self.w*other.w\n",
    "        self.x, self.y  = (self.x*other.y + self.y*other.x)/(1+delta), (self.y*other.y - a*self.x*other.x)/(1-delta)\n",
    "        self.w = self.x*self.y\n",
    "        \n",
    "    # Duplicação de um ponto\n",
    "    def duplica(self):\n",
    "        a = self.curve.constants['a']; d = self.curve.constants['d']\n",
    "        delta = d*(self.w)^2\n",
    "        self.x, self.y = (2*self.w)/(1+delta) , (self.y^2 - a*self.x^2)/(1 - delta)\n",
    "        self.w = self.x*self.y\n",
    "        \n",
    "    # Multiplicação de um ponto por um escalar\n",
    "    def mult(self, n):\n",
    "        m = Mod(n,self.curve.L).lift().digits(2)   ## obter a representação binária do argumento \"n\"\n",
    "        Q = self.copy() ; A = self.zero()\n",
    "        for b in m:\n",
    "            if b == 1:\n",
    "                A.soma(Q)\n",
    "            Q.duplica()\n",
    "        return A"
   ]
  },
  {
   "cell_type": "markdown",
   "metadata": {},
   "source": [
    "### Encoder de pontos"
   ]
  },
  {
   "cell_type": "code",
   "execution_count": 6,
   "metadata": {
    "vscode": {
     "languageId": "python"
    }
   },
   "outputs": [],
   "source": [
    "# Encoding para representar um ponto para bytes\n",
    "def encode_points(x, y):\n",
    "    # Verificar se os pontos pertencem a uma curva de edwards\n",
    "    E = Ed(p, a, d, ed25519) # Criar instancia do edwards\n",
    "    if not E.is_edwards(x, y):\n",
    "        raise ValueError(\"O ponto (x, y) não pertence à curva Edwards definida.\")\n",
    "\n",
    "    # Converter os pontos para inteiros\n",
    "    x_int = int(x) # Passar o valor x para int\n",
    "    y_int = int(y) # Passar o valor y para int\n",
    "\n",
    "    # --------------------------\n",
    "    # Passo 1: \"Encode the y-coordinate as a little-endian string of 32 octets\"\n",
    "    y_bytes = y_int.to_bytes(32, byteorder='little')\n",
    "\n",
    "    # --------------------------\n",
    "    # Passo 2: \"Copy the least significant bit of the x-coordinate to the most significant bit of the final octet\"\n",
    "    sign_bit = x_int & 1  # Extrair o ultimo bit do x\n",
    "\n",
    "    # Copiar o LSB de x para o MSB do último octeto de y\n",
    "    y_byteArray = bytearray(y_bytes)\n",
    "        \n",
    "    if sign_bit == 1:\n",
    "        y_byteArray[31] |= 0x80  # Define o MSB para 1 (0x80 = 10000000 em binário)\n",
    "    else:\n",
    "        y_byteArray[31] &= 0x7F  # Garante que o MSB seja 0 (0x7F = 01111111 em binário)\n",
    "\n",
    "    result = bytes(y_byteArray)\n",
    "\n",
    "    # --------------------------\n",
    "    # Modo debug\n",
    "    if(debug):\n",
    "        print(\"[ENCODE] Recebido x: \" + str(x))\n",
    "        print(\"[ENCODE] Recebido y: \" + str(y))\n",
    "        print(\"[ENCODE] Output: \" + str(result))\n",
    "\n",
    "    return result"
   ]
  },
  {
   "cell_type": "markdown",
   "metadata": {},
   "source": [
    "### Decoder de pontos"
   ]
  },
  {
   "cell_type": "code",
   "execution_count": 7,
   "metadata": {
    "vscode": {
     "languageId": "python"
    }
   },
   "outputs": [],
   "source": [
    "# Função auxiliar do decoder de pontos que permite obter a raiz modulo (x^2 = n mod p)\n",
    "# Irei seguir o (NIST SP 800-186, Appendix E).\n",
    "def tonelliShanks(x2, p):\n",
    "    n = x2\n",
    "\n",
    "    # 1 passo: \"Find q and s (with q odd), such that p–1 = q * 2^s\"\n",
    "    # Vamos iterar o q e o s até que nao seja possivel simplificar mais a equação \n",
    "    Q = p - 1 # Inicializar o q com valor igual a p-1, ou seja se o s for 0\n",
    "    S = 0    \n",
    "\n",
    "    # 2 passo: Aplicar verificar se o Q ainda é divisivel por 2, se for então é possivel aumentar o s em 1 de novo\n",
    "    while Q % 2 == 0:\n",
    "        Q = Q // 2 # Dividir o q por 1 pois o valor de 2 vai passar a ser representado por um incremento no S (// é divisão inteira)\n",
    "        S += 1 \n",
    "\n",
    "    # 3 passo: \"Check to see if nq = 1\"\n",
    "    t = pow(n, Q, p)  # n^q mod p\n",
    "    if t == 1:\n",
    "        # \"If so, then the root x = n(q+1)/2 mod p\"\n",
    "        return pow(n, (Q+1)//2, p) # Solução imediata se existir\n",
    "    \n",
    "    # Prosseguir a escolher z e entrando no loop principal\n",
    "    else:\n",
    "        # 4 passo: \"Select a z, which is a quadratic non-residue modulo p\"\n",
    "        # Nota: \"The Legendre symbol (a/p) where p is an odd prime and prime and a is an integer, can be used to test candidate values for z to see if a value of –1 is returned\"\n",
    "        found_candidate = 0\n",
    "        for candidate in range(2, p):\n",
    "            # Usando a identidade de euler (z/p) == z^(p-1/2)\n",
    "            ls = pow(candidate, (p - 1) // 2, p)\n",
    "            if ls == p - 1:  # pois p-1 ≡ -1 (mod p)\n",
    "                found_candidate = candidate\n",
    "                break\n",
    "        \n",
    "        # Se nao existir candidato para Z matar tudo\n",
    "        if found_candidate == 0:\n",
    "            raise ValueError(\"[TONELLI-SHANKS] Não foi encontrado QNR\")\n",
    "        \n",
    "        # Passo 5: Inicialização dos valores para o loop\n",
    "        z = found_candidate\n",
    "        c = pow(z, Q, p) # \"Set c = zq mod p. \" \n",
    "        t = pow(n, Q, p) # \"Set t = nq mod p.\"\"\n",
    "        R = pow(n, (Q + 1)//2, p) # \"Set x = n(q+1)/2 mod p.\"\n",
    "        M = S # \"Set m = s\"\n",
    "\n",
    "        # Passo 6: \"While t != 1\"\n",
    "        while t != 1:\n",
    "            # Passo 7: \"Find the smallest i, such that 𝑡^2^i = 1\"\n",
    "            t2i = t # Definir valor auxiliar inicial\n",
    "\n",
    "            # Iterar todos os valores de i até que t^2^i = 1\n",
    "            i = 0\n",
    "            for i in range(1, M): # Esta definido que \"0 < i < m\"\n",
    "                t2i = pow(t2i, 2, p)\n",
    "                if t2i == 1:\n",
    "                    break # Foi encontrado um i que torna isto valido\n",
    "            \n",
    "            # Situação rara de erro\n",
    "            if i == M:\n",
    "                raise ValueError(\"[TONELLI-SHANKS] Não foi encontrado um valor valido de i\")\n",
    "            \n",
    "            # Atualizar os valores\n",
    "            b = pow(c, 1 << (M - i - 1), p) \n",
    "            R = (R * b) % p\n",
    "            t = (t * b * b) % p\n",
    "            c = pow(b, 2, p)\n",
    "            M = i\n",
    "\n",
    "        return R"
   ]
  },
  {
   "cell_type": "code",
   "execution_count": 8,
   "metadata": {
    "vscode": {
     "languageId": "python"
    }
   },
   "outputs": [],
   "source": [
    "# Faz decode de uma string de bytes para um ponto y e x (encoded: pontos_da_curva, d:coeficiente_curva, p:numero_primo_corpo)\n",
    "def decode_points(encoded, d, p):\n",
    "    ####################################### PRIMEIRA PARTE (Obter o valor x0 e o valor y) ####################################### \n",
    "    # 1 Passo: \"Interpret the octet string as an integer in little-endian representation\"\n",
    "    enc_val = int.from_bytes(encoded, byteorder=\"little\")\n",
    "\n",
    "    # 2 Passo: \"The most significant bit of this integer is the least significant bit of the x-coordinate\"\n",
    "    x0 = (enc_val >> 255) & 1 # Damos shift do bit que queremos para a ultima posição e extraimos com o &1\n",
    "\n",
    "    # 3 Passo: \"The ycoordinate is recovered simply by clearing this bit\"\n",
    "    y_val = enc_val & ((1 << 255) - 1) # Criar sequencia de bits \"valor & (...)111111110\" que irá colocar o msb a 0\n",
    "\n",
    "    # 4 Passo: \"If the resulting value is ≥ p, decoding fails\"\n",
    "    if y_val >= p:\n",
    "        raise ValueError(\"Descodificação falhou: y_val >= p.\")\n",
    "\n",
    "    ####################################### SEGUNDA PARTE (Obter o valor x2) #######################################\n",
    "    # Ao pegar na equação da curva de edwards é possivel reorganiza-la para ficar ordem x^2\n",
    "    # x^2 = (y^2 - 1) / (d y^2 - a) (mod p). O objetivo será calcular o x^2. \n",
    "\n",
    "    # 1 Passo: Calcular y^2 (Mod p porque toda a aritmetica é feita mod p em corpos finitos)\n",
    "    y2 = pow(y_val, 2, p)\n",
    "\n",
    "    # 2 Passo: Calcular o numerador e denominador\n",
    "    N = (y2 - 1) % p      # Numerador = y^2 - 1\n",
    "    D = (d * y2 + 1) % p  # D = d * y^2 + 1\n",
    "\n",
    "    # 3 Passo: Verificar se o denominador dá 0\n",
    "    if D == 0:\n",
    "        raise ValueError(\"Descodificação falhou: denominador zero na equação\")\n",
    "    \n",
    "    # Esta equação simplifica a primeira equação: x^2 ≡ N * D^−1 (mod p)\n",
    "    # Vamos tentar obter o x2 utilizando o N e o D. Não é possivel dividir um numero por outro em aritmetica modular.\n",
    "    # Entao teremos de utilizar multiplicação\n",
    "\n",
    "    # Passo 3: Obter o inverso de D (Aplicando teorema de Fermat)\n",
    "    D_inv = pow(D, p-2, p)\n",
    "\n",
    "    # Passo 4: Aplicar a equação para obter o valor de x^2\n",
    "    x2 = (N * D_inv) % p\n",
    "\n",
    "    ####################################### TERCEIRA PARTE (Obter o valor de x) #######################################\n",
    "    # Para obter o valor de x2 teremos de utilizar a formula de Tonelli-Shanks, que permite obter raiz quadrada modulo \n",
    "    # Irei seguir o (NIST SP 800-186, Appendix E).\n",
    "    # Passo 5: Obter o x\n",
    "    x_val = tonelliShanks(x2,p)\n",
    "    \n",
    "    # Verificar a paridade do x\n",
    "    if (int(x_val) & 1) != x0:\n",
    "        x_val = p - x_val # Se a paridade for diferente, então inverter o valor de x\n",
    "\n",
    "    # Modo debug\n",
    "    if(debug):\n",
    "        print(\"[DECODE] Obtido x: \" + str(x_val))\n",
    "        print(\"[DECODE] Obtido y: \" + str(y_val))\n",
    "\n",
    "    return x_val, y_val"
   ]
  },
  {
   "cell_type": "markdown",
   "metadata": {},
   "source": [
    "## Implementação do ed25519"
   ]
  },
  {
   "cell_type": "markdown",
   "metadata": {},
   "source": [
    "### Gerar par de chaves"
   ]
  },
  {
   "cell_type": "code",
   "execution_count": 9,
   "metadata": {
    "vscode": {
     "languageId": "python"
    }
   },
   "outputs": [],
   "source": [
    "# Função que gera um par de chaves \n",
    "def genKeys(G):\n",
    "    # Criação do par de chaves (Parametros)\n",
    "    b = 256 # Tamanho Especifico ao ed25519         \n",
    "    requested_security_strenght = 32 # Tamanho Especifico ao ed25519 em bytes (32 bytes = 128 bits)  \n",
    "    keysDigest = hashes.Hash(hashes.SHA512()) # Utilização do sha512 como hash (Especificação do ed25519)\n",
    "\n",
    "    # --------------------------\n",
    "    # Passo 1 (Gerar chave privada)\n",
    "    private_key = secrets.token_bytes(requested_security_strenght)  \n",
    "\n",
    "    # --------------------------\n",
    "    # Passo 2 (Calcular a hash da chave privada) \n",
    "    keysDigest.update(private_key)\n",
    "    privateKey_hash = keysDigest.finalize()\n",
    "\n",
    "    # --------------------------\n",
    "    # Passo 3 (Gerar a chave publica)\n",
    "    metade = privateKey_hash[:len(privateKey_hash)//2] # Obter a primeira metade do hash gerado\n",
    "\n",
    "    # --------------------------\n",
    "    # Passo 3.1 (\"The first 32 octets of H are interpreted as a little-endian integer...\")\n",
    "    metade_byteArray = bytearray(metade)\n",
    "    metade_byteArray[0] &= 248       # Limpar bits 0,1,2 (\"and 11111000\" que faz com que os 3 primeiros bits se tornem 0) (O algoritmo utiliza notação little endian)\n",
    "    metade_byteArray[31] &= 127      # Limpar bit 7 (\"and 01111111\" que faz com que o ultimo bit se torne 0) (O algoritmo utiliza notação little endian)\n",
    "    metade_byteArray[31] |= 64       # Definir bit 6 a 0 (\"or 01000000\" que faz com que o penultimo bit se torne 1 e mantem os restantes) (O algoritmo utiliza notação little endian)\n",
    "    metade_novo = bytes(metade_byteArray)\n",
    "\n",
    "    # --------------------------\n",
    "    # Passo 4 (\"Determine an integer s from hdigest1 using little-endian convention\")\n",
    "    s = int.from_bytes(metade_novo, byteorder=\"little\")\n",
    "\n",
    "    # --------------------------\n",
    "    # Passo 5 (\"Compute the point [s]G. The corresponding EdDSA public key Q is the encoding of the point [s]G\")\n",
    "    # Criar objeto da curva\n",
    "    pub_point = G.mult(s) # Obter [s]G\n",
    "    public_key = encode_points(pub_point.x, pub_point.y) # \"The corresponding EdDSA public key Q is the encoding of the point [s]G\" \n",
    "\n",
    "    if(debug):\n",
    "        print(\"[KEYGEN] Public key (hex):\", public_key.hex())\n",
    "        print(\"[KEYGEN] Private key (hex):\", private_key.hex())\n",
    "\n",
    "    return private_key, public_key"
   ]
  },
  {
   "cell_type": "markdown",
   "metadata": {},
   "source": [
    "### Gerar assinatura EdDSA"
   ]
  },
  {
   "cell_type": "code",
   "execution_count": 10,
   "metadata": {
    "vscode": {
     "languageId": "python"
    }
   },
   "outputs": [],
   "source": [
    "def genSignature(Message, public_key, private_key, G, n):\n",
    "    # --------------------------\n",
    "    # Passo 1: Calcular H(private_key) com SHA-512\n",
    "    digest1 = hashes.Hash(hashes.SHA512())\n",
    "    digest1.update(private_key)\n",
    "    privateKeyHash = digest1.finalize() \n",
    "\n",
    "    # --------------------------\n",
    "    # Passo 2: Extrair a segunda metade do hash para computar r (ultimos 32 bytes ja que o output do sha é 64)\n",
    "    privateKeyHash_half = privateKeyHash[32:]\n",
    "\n",
    "    # Passo 2.1: r = SHA-512(privateKeyHash_half || Message)\n",
    "    digest2 = hashes.Hash(hashes.SHA512())\n",
    "    conc = privateKeyHash_half + Message\n",
    "    digest2.update(conc)\n",
    "    r = digest2.finalize()\n",
    "\n",
    "    # Converter r para inteiro (e reduzir modulo n)\n",
    "    r_int = int.from_bytes(r, byteorder=\"little\") % n\n",
    "\n",
    "    # --------------------------\n",
    "    # Passo 3: Calcular o ponto R = [r]G e codifica‑lo\n",
    "    R_point = G.mult(r_int) # [r]G na curva de Edwards\n",
    "    R_encoded = encode_points(R_point.x, R_point.y) # Encoding\n",
    "    \n",
    "    # --------------------------\n",
    "    # Passo 4: Derivar s a partir de H(private_key)\n",
    "    s_bytes = bytearray(privateKeyHash[:32])  # Pegar os primeiros 32 bytes\n",
    "    s_bytes[0] &= 0xF8      # Coloca os 3 bits menos significativos do primeiro byte a 0 (0xF8 = 11111000)\n",
    "    s_bytes[31] &= 0x7F     # Coloca o bit mais significativo do último byte a 0 (0x7F = 01111111)\n",
    "    s_bytes[31] |= 0x40     # Coloca o penúltimo bit do último byte para 1 (0x40 = 01000000)\n",
    "    s_scalar = int.from_bytes(s_bytes, byteorder=\"little\") # Valor escalar (int)\n",
    "\n",
    "    # --------------------------\n",
    "    # Passo 4.1: Calcular h = SHA-512(R_encoded || public_key || Message)\n",
    "    digest3 = hashes.Hash(hashes.SHA512())\n",
    "    digest3.update(R_encoded + public_key + Message)\n",
    "    h_bytes = digest3.finalize()\n",
    "    h_int = int.from_bytes(h_bytes, byteorder=\"little\") % n\n",
    "\n",
    "    # Calcular S = (r_int + h_int * s_scalar) mod n\n",
    "    S_int = (r_int + h_int * s_scalar) % n\n",
    "    S_bytes = S_int.to_bytes(32, byteorder=\"little\")\n",
    "\n",
    "    # --------------------------\n",
    "    # Passo 5: A assinatura é a concatenação de R_encoded e S_bytes\n",
    "    signature = R_encoded + S_bytes\n",
    "    \n",
    "    if (debug):\n",
    "        print(\"[SIGNATURE] Signature (hex):\" + str(signature))\n",
    "              \n",
    "    return signature"
   ]
  },
  {
   "cell_type": "markdown",
   "metadata": {},
   "source": [
    "### Verificação de assinaturas"
   ]
  },
  {
   "cell_type": "code",
   "execution_count": 11,
   "metadata": {
    "vscode": {
     "languageId": "python"
    }
   },
   "outputs": [],
   "source": [
    "def verify_signature(message, signature, public_key, G, d, p, c, E):\n",
    "    # Passo 1: \"Decode the first half of the signature as a point R\"    \n",
    "    firsthalf = signature[:32]  # R (assinatura = R || S)\n",
    "    r_point_x, r_point_y = decode_points(firsthalf, d, p)\n",
    "\n",
    "    # \"Decode the public key into a point Q\"\n",
    "    Q_x, Q_y = decode_points(public_key, d, p)\n",
    "    \n",
    "    # --------------------------\n",
    "    # Passo 2: \"Convert the second half of the signature (S) to an integer\"\n",
    "    secondhalf = signature[32:]\n",
    "    s_int = int.from_bytes(secondhalf, byteorder=\"little\")\n",
    "    \n",
    "    # Verificar que s está no intervalo [0, n]\n",
    "    n = ZZ(2**252 + 27742317777372353535851937790883648493)\n",
    "    if not (0 <= s_int < n):\n",
    "        raise ValueError(\"Verificação de assinatura falhou: s fora do intervalo (reject)\")\n",
    "    \n",
    "    # --------------------------\n",
    "    # Passo 3: \"Form the bit string HashData as the concatenation of R || Q || M\"\n",
    "    # Passo 4: \"Compute h = SHA-512(HashData) and interpret as little-endian integer mod n\"\n",
    "    sha = hashes.Hash(hashes.SHA512())\n",
    "    sha.update(firsthalf + public_key + message)\n",
    "    hashdata = sha.finalize()\n",
    "    t = int.from_bytes(hashdata, byteorder=\"little\") % n\n",
    "    \n",
    "    # Converter os pontos descodificados em objetos de ponto\n",
    "    R = ed(curve=E, x=r_point_x, y=r_point_y)\n",
    "    Q = ed(curve=E, x=Q_x, y=Q_y)\n",
    "    \n",
    "    # --------------------------\n",
    "    # Passo 5: \"Check that the verification equation [2c * S]G = [2c]R + (2c * t)Q\"\n",
    "    # Calcular 2^c\n",
    "    two_c = 2**c\n",
    "    \n",
    "    # Lado esquerdo: [2^c * s_int] * G\n",
    "    lhs = G.mult(two_c * s_int)\n",
    "    \n",
    "    # Lado direito = [2^c]R + [2^c * t]Q\n",
    "    part1 = R.mult(two_c)\n",
    "    part2 = Q.mult(two_c * t)\n",
    "    rhs = part1\n",
    "    rhs.soma(part2)\n",
    "    \n",
    "    # Comparar lado esquerdo e direito\n",
    "    resultado = True\n",
    "    if lhs.eq(rhs):\n",
    "        if(debug): print(\"[VERIFY] Assinatura VÁLIDA!\")\n",
    "    else:\n",
    "        if(debug): print(\"[VERIFY] Assinatura INVÁLIDA!\")\n",
    "        resultado = False\n",
    "    \n",
    "    return resultado"
   ]
  },
  {
   "cell_type": "markdown",
   "metadata": {},
   "source": [
    "## **Classe principal EdDSA**"
   ]
  },
  {
   "cell_type": "code",
   "execution_count": 12,
   "metadata": {
    "vscode": {
     "languageId": "python"
    }
   },
   "outputs": [],
   "source": [
    "# Classe que implementa o edDSA (Edwards Digital Signature Algorithm)\n",
    "class EdDSA():\n",
    "    def __init__(self):\n",
    "        # Criação de uma instancia da curva de edwards\n",
    "        self.E = Ed(p, a, d, ed25519) # Criar instancia do edwards\n",
    "\n",
    "        # Parametros\n",
    "        self.G = ed(curve=self.E, x=ed25519[\"Px\"], y=ed25519[\"Py\"]) # Representa o gerador de uma curva de edwards\n",
    "        self.n = ZZ(2^252 + 27742317777372353535851937790883648493) # Ordem do subgrupo primo\n",
    "        self.c = 3\n",
    "\n",
    "        if(debug):\n",
    "            print(\"Ponto gerador utilizado:\")\n",
    "            print(\"[EDDSA]:\" + str(ed25519[\"Px\"]))\n",
    "            print(\"[EDDSA]:\" + str(ed25519[\"Py\"]))\n",
    "    \n",
    "    # Permite gerar um par de chaves\n",
    "    def genKeyPair(self):\n",
    "        return genKeys(self.G)\n",
    "    \n",
    "    # Permite assinar uma mensagem\n",
    "    def sign(self, message, public_key, private_key):\n",
    "        return genSignature(message, public_key, private_key, self.G, int(self.n))\n",
    "\n",
    "    # Permite verificar uma assinatura\n",
    "    def verify(self, message, signature, public_key):\n",
    "        return verify_signature(message, signature, public_key, self.G, d, p, self.c, self.E)"
   ]
  },
  {
   "cell_type": "markdown",
   "metadata": {},
   "source": [
    "# **Testes**"
   ]
  },
  {
   "cell_type": "markdown",
   "metadata": {},
   "source": [
    "#### **Teste:** Assinatura valida"
   ]
  },
  {
   "cell_type": "code",
   "execution_count": 13,
   "metadata": {
    "vscode": {
     "languageId": "python"
    }
   },
   "outputs": [
    {
     "name": "stdout",
     "output_type": "stream",
     "text": [
      "Ponto gerador utilizado:\n",
      "[EDDSA]:15112221349535400772501151409588531511454012693041857206046113283949847762202\n",
      "[EDDSA]:46316835694926478169428394003475163141307993866256225615783033603165251855960\n",
      "----------- Gerar chaves -----------\n",
      "[ENCODE] Recebido x: 20206461476807189232858618977275236598945682479763441131810458562404490015543\n",
      "[ENCODE] Recebido y: 40082669062465375112785483875265889621666205095264158590028029931179617633158\n",
      "[ENCODE] Output: b'\\x86C\\x81\\x92u\\xc2\\xdf|\\x85m\\x06\\x97\\x0cb!E\\x9cm\\xf0\\xd2jU\\xd5\\xa5w\\xa7\\x829\\x9a\\xfc\\x9d\\xd8'\n",
      "[KEYGEN] Public key (hex): 8643819275c2df7c856d06970c6221459c6df0d26a55d5a577a782399afc9dd8\n",
      "[KEYGEN] Private key (hex): 23821d3c4538a9d5211e305e830c52e8aae65986fd25c7c937871503cceacf6d\n",
      "----------- Gerar assinatura -----------\n",
      "[ENCODE] Recebido x: 14253293963880110607676911064123920611639504397799698572632290834850741689609\n",
      "[ENCODE] Recebido y: 7519838650931168667719564668193440139861580332554098285289970207146204517731\n",
      "[ENCODE] Output: b'c\\xd5\\x14\\xd6\\xe3\\xc94\\xc3qr\\xf2\\xea\\xa7*H~\\xc6:\\x95\\xaf\\xc6\\x93\\xdfs\\xf5\\x91\\x19\\xc3\\xed\\x13\\xa0\\x90'\n",
      "[SIGNATURE] Signature (hex):b'c\\xd5\\x14\\xd6\\xe3\\xc94\\xc3qr\\xf2\\xea\\xa7*H~\\xc6:\\x95\\xaf\\xc6\\x93\\xdfs\\xf5\\x91\\x19\\xc3\\xed\\x13\\xa0\\x90x\\x17\\xce\\x1fp\\x07AM\\x8d\\x88D\\xe9\\xb9\\xb8O\\xf8\\xbc\\xd0\\xd1\\xb7\\x1a\\xc7{\\x1e2\\x8d=\\xb5\\x07*\\xab\\x08'\n",
      "----------- Verificacao assinatura -----------\n",
      "[DECODE] Obtido x: 14253293963880110607676911064123920611639504397799698572632290834850741689609\n",
      "[DECODE] Obtido y: 7519838650931168667719564668193440139861580332554098285289970207146204517731\n",
      "[DECODE] Obtido x: 20206461476807189232858618977275236598945682479763441131810458562404490015543\n",
      "[DECODE] Obtido y: 40082669062465375112785483875265889621666205095264158590028029931179617633158\n",
      "[VERIFY] Assinatura VÁLIDA!\n"
     ]
    }
   ],
   "source": [
    "edDSA = EdDSA()\n",
    "\n",
    "print(\"----------- Gerar chaves -----------\")\n",
    "private_key, public_key = edDSA.genKeyPair()\n",
    "\n",
    "print(\"----------- Gerar assinatura -----------\")\n",
    "sig = edDSA.sign(b\"mensagem_fixe\", public_key, private_key)\n",
    "\n",
    "print(\"----------- Verificacao assinatura -----------\")\n",
    "ver = edDSA.verify(b\"mensagem_fixe\", sig, public_key)"
   ]
  },
  {
   "cell_type": "markdown",
   "metadata": {},
   "source": [
    "#### **Teste:** Mensagem diferente na verificação (Violação de integridade)"
   ]
  },
  {
   "cell_type": "code",
   "execution_count": 14,
   "metadata": {
    "vscode": {
     "languageId": "python"
    }
   },
   "outputs": [
    {
     "name": "stdout",
     "output_type": "stream",
     "text": [
      "Ponto gerador utilizado:\n",
      "[EDDSA]:15112221349535400772501151409588531511454012693041857206046113283949847762202\n",
      "[EDDSA]:46316835694926478169428394003475163141307993866256225615783033603165251855960\n",
      "----------- Gerar chaves -----------\n",
      "[ENCODE] Recebido x: 19756571226092059960604536500905873291463995902949367504236989789775724186722\n",
      "[ENCODE] Recebido y: 22263242089435251840761752414247403335883519079552689376162042800730373668587\n",
      "[ENCODE] Output: b\"\\xeb\\xbeT\\xd3z\\x14\\xfc\\xde\\xe2\\x1ba\\xf7\\x89'\\x92I}\\x0bBl\\x94E\\xa4t\\xe1\\xbd{\\xech\\x8c81\"\n",
      "[KEYGEN] Public key (hex): ebbe54d37a14fcdee21b61f7892792497d0b426c9445a474e1bd7bec688c3831\n",
      "[KEYGEN] Private key (hex): 37e24dfdc8f47e91141bfe6194fd446ed4635be7f1bacc512de8f15ffac65793\n",
      "----------- Gerar assinatura -----------\n",
      "[ENCODE] Recebido x: 39041168411622452189628284995086552145055145819685404520670243544483739969196\n",
      "[ENCODE] Recebido y: 48330410277883552782527354826224011218169432623506153929673755045310867681207\n",
      "[ENCODE] Output: b'\\xb7\\xaf\\x1b1\\xf7e\\xd3\\xd67\\x8c\\xc7\\x11\\xb4\\xd8\\x91\\xcc\\xb3+4\\xff]u\\x16\\xe2\\x9eI\\x02\\xae\\xf6\\n\\xdaj'\n",
      "[SIGNATURE] Signature (hex):b'\\xb7\\xaf\\x1b1\\xf7e\\xd3\\xd67\\x8c\\xc7\\x11\\xb4\\xd8\\x91\\xcc\\xb3+4\\xff]u\\x16\\xe2\\x9eI\\x02\\xae\\xf6\\n\\xdajl\\xbc\\xd6\\xcar\\x08\\xf7ox\\xb4\\xea\\xf4E\\x95|\\xf1U\\xed\\xfd\\x1e\\xaeH\\xdc\\xa3zx\\xd3\\xe5)\\xcfP\\x05'\n",
      "----------- Verificacao assinatura -----------\n",
      "[DECODE] Obtido x: 39041168411622452189628284995086552145055145819685404520670243544483739969196\n",
      "[DECODE] Obtido y: 48330410277883552782527354826224011218169432623506153929673755045310867681207\n",
      "[DECODE] Obtido x: 19756571226092059960604536500905873291463995902949367504236989789775724186722\n",
      "[DECODE] Obtido y: 22263242089435251840761752414247403335883519079552689376162042800730373668587\n",
      "[VERIFY] Assinatura INVÁLIDA!\n"
     ]
    }
   ],
   "source": [
    "edDSA = EdDSA()\n",
    "\n",
    "print(\"----------- Gerar chaves -----------\")\n",
    "private_key, public_key = edDSA.genKeyPair()\n",
    "\n",
    "print(\"----------- Gerar assinatura -----------\")\n",
    "sig = edDSA.sign(b\"mensagem_fixe\", public_key, private_key)\n",
    "\n",
    "print(\"----------- Verificacao assinatura -----------\")\n",
    "ver = edDSA.verify(b\"mensagem_fixe_manipulada\", sig, public_key)"
   ]
  },
  {
   "cell_type": "markdown",
   "metadata": {},
   "source": [
    "#### **Teste:** Chave publica diferente na verificação"
   ]
  },
  {
   "cell_type": "code",
   "execution_count": 15,
   "metadata": {
    "vscode": {
     "languageId": "python"
    }
   },
   "outputs": [
    {
     "name": "stdout",
     "output_type": "stream",
     "text": [
      "Ponto gerador utilizado:\n",
      "[EDDSA]:15112221349535400772501151409588531511454012693041857206046113283949847762202\n",
      "[EDDSA]:46316835694926478169428394003475163141307993866256225615783033603165251855960\n",
      "----------- Gerar chaves -----------\n",
      "[ENCODE] Recebido x: 49973778492284746067691360954463278248924488615494375621347745674206079989057\n",
      "[ENCODE] Recebido y: 44438557999280901130147452278212973126377186725258201811254774189842344825786\n",
      "[ENCODE] Output: b'\\xba\\xd3\\xc5 \\xd88\\xc7\\x97\\xac\\x9c\\x12J\\xfd\\xbc\\xa4\\xc2\\xc8\\xe0z\\x11\\xb5K\\x1a6\\xd8=\\x0c\\x96\\x1eU?\\xe2'\n",
      "[KEYGEN] Public key (hex): bad3c520d838c797ac9c124afdbca4c2c8e07a11b54b1a36d83d0c961e553fe2\n",
      "[KEYGEN] Private key (hex): e7083490f6cc5200572f99fdb0f921c48f7ae76f236b06737f66edd9a7faa1bc\n",
      "----------- Gerar assinatura -----------\n",
      "[ENCODE] Recebido x: 2369693401760585930431413687011901899596099226890619920295385428956220072037\n",
      "[ENCODE] Recebido y: 27958268819905552496609602124769592411498842127063048427531693207135210156645\n",
      "[ENCODE] Output: b\"e\\xb2C\\x0b+2'r\\xf5\\xe2\\x06]\\xd9V\\xc1Gj\\xc9/\\xf2\\x9a\\x01\\xe8T\\x9f\\xb8\\x93\\xb1\\xc2\\xd1\\xcf\\xbd\"\n",
      "[SIGNATURE] Signature (hex):b\"e\\xb2C\\x0b+2'r\\xf5\\xe2\\x06]\\xd9V\\xc1Gj\\xc9/\\xf2\\x9a\\x01\\xe8T\\x9f\\xb8\\x93\\xb1\\xc2\\xd1\\xcf\\xbd\\xc1/Fo\\xce\\xb2x\\xd3\\xc2\\x13\\x01>\\xa8n;\\xab\\xf2\\xde\\x7f\\x17\\x91~\\x91N\\x85 \\xfd\\xb4\\xd3H\\xe4\\x07\"\n",
      "----------- Verificacao assinatura -----------\n",
      "[DECODE] Obtido x: 2369693401760585930431413687011901899596099226890619920295385428956220072037\n",
      "[DECODE] Obtido y: 27958268819905552496609602124769592411498842127063048427531693207135210156645\n",
      "[DECODE] Obtido x: 45825025551836283247919780405029377951960565623117208917850174445242016541526\n",
      "[DECODE] Obtido y: 117810875914910958463576163\n",
      "[VERIFY] Assinatura INVÁLIDA!\n"
     ]
    }
   ],
   "source": [
    "edDSA = EdDSA()\n",
    "\n",
    "print(\"----------- Gerar chaves -----------\")\n",
    "private_key, public_key = edDSA.genKeyPair()\n",
    "\n",
    "print(\"----------- Gerar assinatura -----------\")\n",
    "sig = edDSA.sign(b\"mensagem_fixe\", public_key, private_key)\n",
    "\n",
    "print(\"----------- Verificacao assinatura -----------\")\n",
    "try:\n",
    "    ver = edDSA.verify(b\"mensagem_fixe\", sig, b\"chave_falsa\") # AQUI ENCONTRA-SE UTILIZADA A CHAVE PRIVADA COMO SE FOSSE PUBLICA (Tem de falhar)\n",
    "except Exception as e:\n",
    "    print(\"Erro capturado:\", e)"
   ]
  },
  {
   "cell_type": "markdown",
   "metadata": {},
   "source": [
    "#### **Teste:** Assinatura manipulada"
   ]
  },
  {
   "cell_type": "code",
   "execution_count": 16,
   "metadata": {
    "vscode": {
     "languageId": "python"
    }
   },
   "outputs": [
    {
     "name": "stdout",
     "output_type": "stream",
     "text": [
      "Ponto gerador utilizado:\n",
      "[EDDSA]:15112221349535400772501151409588531511454012693041857206046113283949847762202\n",
      "[EDDSA]:46316835694926478169428394003475163141307993866256225615783033603165251855960\n",
      "----------- Gerar chaves -----------\n",
      "[ENCODE] Recebido x: 34211953755631051986199554641143879445915212945876014501123972742158038198706\n",
      "[ENCODE] Recebido y: 5164754291972242399248385931255424466649354240421981850324901470396245696653\n",
      "[ENCODE] Output: b'\\x8d`\\x91\\x1e\\xad\\xb3\\xbd\\xa7\\xcc@\\xb7y\\x11\\xaeM[>\\x8c\\xec\\xf6C\"n\\xe7\\xd2H\\xa0\\xdd\\xb7%k\\x0b'\n",
      "[KEYGEN] Public key (hex): 8d60911eadb3bda7cc40b77911ae4d5b3e8cecf643226ee7d248a0ddb7256b0b\n",
      "[KEYGEN] Private key (hex): b2ec61531dd50b31f084e074f6cb22d01909fbb9337953b1145840f2c77323c2\n",
      "----------- Gerar assinatura -----------\n",
      "[ENCODE] Recebido x: 34450630728773154656741835218418288182808309295255536766776018570678911254710\n",
      "[ENCODE] Recebido y: 24706532211406083873627728542046329630091931015134786863387329992802838992018\n",
      "[ENCODE] Output: b'\\x92T3\\xbb\\x95\\xe3\\xe6ht\\xd41\\\\\\x00d\\x97)4\\xb5\\xb0\\x8d\\xbf\\x85Jj\\xe4\\xff3h\\xd4f\\x9f6'\n",
      "[SIGNATURE] Signature (hex):b'\\x92T3\\xbb\\x95\\xe3\\xe6ht\\xd41\\\\\\x00d\\x97)4\\xb5\\xb0\\x8d\\xbf\\x85Jj\\xe4\\xff3h\\xd4f\\x9f6\\x15\\xde\\xf2\\xccC\\x15\\xd8>\\x8f\\xfd\\x83\\xb5\\x91\\xc5=I\\xd6\\x0f\\x18\\xc9\\xe1\\xe4d I6\\xf1;\\xcfpr\\x02'\n",
      "----------- Verificacao assinatura -----------\n",
      "Erro capturado: [TONELLI-SHANKS] Não foi encontrado um valor valido de i\n"
     ]
    }
   ],
   "source": [
    "edDSA = EdDSA()\n",
    "\n",
    "print(\"----------- Gerar chaves -----------\")\n",
    "private_key, public_key = edDSA.genKeyPair()\n",
    "\n",
    "print(\"----------- Gerar assinatura -----------\")\n",
    "sig = edDSA.sign(b\"mensagem_fixe\", public_key, private_key)\n",
    "\n",
    "# MANIPULAÇÃO DA ASSINATURA\n",
    "sig_arr = bytearray(sig)\n",
    "sig_arr[10] = (sig_arr[10] + 1) % 256  # Incrementar um byte \n",
    "sig = bytes(sig_arr)\n",
    "\n",
    "print(\"----------- Verificacao assinatura -----------\")\n",
    "try:\n",
    "    ver = edDSA.verify(b\"mensagem_fixe\", sig, public_key) \n",
    "except Exception as e:\n",
    "    print(\"Erro capturado:\", e)\n"
   ]
  },
  {
   "cell_type": "markdown",
   "metadata": {},
   "source": [
    "#### **Teste:** Encode e decode"
   ]
  },
  {
   "cell_type": "code",
   "execution_count": 17,
   "metadata": {
    "vscode": {
     "languageId": "python"
    }
   },
   "outputs": [
    {
     "name": "stdout",
     "output_type": "stream",
     "text": [
      "-----------------------\n",
      "TESTE: ENCODE E DECODE\n",
      "-----------------------\n",
      "[ENCODE] Recebido x: 15112221349535400772501151409588531511454012693041857206046113283949847762202\n",
      "[ENCODE] Recebido y: 46316835694926478169428394003475163141307993866256225615783033603165251855960\n",
      "[ENCODE] Output: b'Xfffffffffffffffffffffffffffffff'\n",
      "[DECODE] Obtido x: 15112221349535400772501151409588531511454012693041857206046113283949847762202\n",
      "[DECODE] Obtido y: 46316835694926478169428394003475163141307993866256225615783033603165251855960\n"
     ]
    }
   ],
   "source": [
    "# Teste da função de encode e decode\n",
    "if(debug):\n",
    "    print(\"-----------------------\")\n",
    "    print(\"TESTE: ENCODE E DECODE\")\n",
    "    print(\"-----------------------\")\n",
    "    \n",
    "    encoded_point = encode_points(15112221349535400772501151409588531511454012693041857206046113283949847762202, 46316835694926478169428394003475163141307993866256225615783033603165251855960)\n",
    "    d = -K(121665)/K(121666)\n",
    "    decode_points(encoded_point, d, 2^255-19)"
   ]
  }
 ],
 "metadata": {
  "kernelspec": {
   "display_name": "SageMath 10.5",
   "language": "sage",
   "name": "sagemath"
  },
  "language_info": {
   "codemirror_mode": {
    "name": "ipython",
    "version": 3
   },
   "file_extension": ".py",
   "mimetype": "text/x-python",
   "name": "sage",
   "nbconvert_exporter": "python",
   "pygments_lexer": "ipython3",
   "version": "3.12.9"
  }
 },
 "nbformat": 4,
 "nbformat_minor": 2
}
