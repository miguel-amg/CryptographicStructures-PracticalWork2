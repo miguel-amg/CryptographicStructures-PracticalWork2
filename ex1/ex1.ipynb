{
 "cells": [
  {
   "cell_type": "markdown",
   "metadata": {},
   "source": [
    "#### Tecnologias Utilizadas:\n",
    "\n",
    "- Python \n",
    "- SageMath\n"
   ]
  },
  {
   "cell_type": "markdown",
   "metadata": {},
   "source": [
    "# El Gammal (PKE)\n"
   ]
  },
  {
   "cell_type": "markdown",
   "metadata": {},
   "source": [
    "**Public Key Encryption** é um tipo de criptografia assimétrica que utiliza um par de chaves: uma chave pública para cifrar mensagens e uma chave privada para decifrá-las. A principal característica do PKE é que a chave pública pode ser compartilhada abertamente, enquanto a chave privada deve ser mantida em segredo.\n",
    "\n",
    "Com PKEs deixa de ser necessário um canal para partilhar chaves, já que basta cifrar algo com a chave publica do destinatário, o que garante que este será o único a conseguir decifrá-la."
   ]
  },
  {
   "cell_type": "markdown",
   "metadata": {},
   "source": [
    "### **1ª Etapa**\n",
    "\n",
    "Começamos por gerar os parametros que seguem as restrições estabelecidas no enunciado:"
   ]
  },
  {
   "cell_type": "markdown",
   "metadata": {},
   "source": [
    "#### **Parameteros**\n",
    "\n",
    "- **Parametro de segurança (λ) = 128**\n",
    "\n",
    "```py\n",
    "        _lambda = 128  # security parameter\n",
    "        lambda_bits = _lambda.nbits() # 128 in binary is 10000000 -> 8 bits\n",
    "```\n",
    "Quanto maior lambda, mais seguro o sistema, mas em aplicações modernas lambda = 128 é o mais usual.\n",
    "\n",
    "- **p : numero primo que define o grupo multiplicativo ℤₚ***\n",
    "```py   \n",
    "        while True:\n",
    "            k = randint(min_k, max_k)\n",
    "            p_candidate = k * q + 1\n",
    "            if is_prime(p_candidate) and p_candidate.nbits() >= min_p_bits:\n",
    "                p = p_candidate\n",
    "                break\n",
    "            k += 1\n",
    "```\n",
    "Isto significa que teremos um grupo com numeros de 1 a p-1, sendo este ultimo divisivel por q.\n",
    "Segundo o enunciado este terá ∣p∣≥λ×∣λ∣​ que neste caso serão 1024 bits.\n",
    "\n",
    "- **q : numero primo que define a ordem do subgrupo**\n",
    "```py \n",
    "        lower_bound = 2^(_lambda - 1)\n",
    "        upper_bound = 2^_lambda - 1\n",
    "        q_candidate = randint(lower_bound, upper_bound)\n",
    "        q = next_prime(q_candidate)\n",
    "```\n",
    "Garante a existencia do subgrupo e afeta diretamente a segurança do sistema: pois quanto maior lambda, maior q e maior é a resistencia do sistema contra ataques de logaritmo discreto.\n",
    "\n",
    "- **g : gerador do subgrupo de ordem g**\n",
    "\n",
    "```py\n",
    "        while True:\n",
    "            a = randint(2, p - 2)\n",
    "            g = power_mod(a, (p - 1) // q, p)\n",
    "            if g != 1:\n",
    "                break\n",
    "```\n",
    "O conjunto {g¹, g², g³, ..., g^q} gera todos os elementos do subgrupo\n",
    "\n",
    "#### **Par de Chaves**\n",
    "\n",
    "- **s : chave privada**\n",
    "\n",
    "```py\n",
    "        s = randint(1, q-1)\n",
    "```\n",
    "\n",
    "Numero aleatório entre 1 e q-1 que é mantido em segredo pelo proprietário e só usado para decifrar\n",
    "\n",
    "- **h : chave publica**\n",
    "\n",
    "```py\n",
    "        h = power_mod(g, s, p)\n",
    "```\n",
    "Esta chave é usada para cifrar as mensagens. É muito dificil chegar a s a partir de h (problema do logaritmo discreto)\n",
    "\n",
    "#### **Ao cifrar**\n",
    "\n",
    "\n"
   ]
  },
  {
   "cell_type": "markdown",
   "metadata": {},
   "source": []
  }
 ],
 "metadata": {
  "language_info": {
   "name": "python"
  }
 },
 "nbformat": 4,
 "nbformat_minor": 2
}
