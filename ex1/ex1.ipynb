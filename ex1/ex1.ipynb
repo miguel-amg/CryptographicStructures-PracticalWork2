{
 "cells": [
  {
   "cell_type": "markdown",
   "metadata": {},
   "source": [
    "#### Tecnologias Utilizadas:\n",
    "\n",
    "- Python \n",
    "- SageMath\n"
   ]
  },
  {
   "cell_type": "markdown",
   "metadata": {},
   "source": [
    "# **El Gammal (PKE)**\n"
   ]
  },
  {
   "cell_type": "markdown",
   "metadata": {},
   "source": [
    "**Public Key Encryption** é um tipo de criptografia assimétrica que utiliza um par de chaves: uma chave pública para cifrar mensagens e uma chave privada para decifrá-las. A principal característica do PKE é que a chave pública pode ser compartilhada abertamente, enquanto a chave privada deve ser mantida em segredo.\n",
    "\n",
    "Com PKEs deixa de ser necessário um canal para partilhar chaves, já que basta cifrar algo com a chave publica do destinatário, o que garante que este será o único a conseguir decifrá-la."
   ]
  },
  {
   "cell_type": "markdown",
   "metadata": {},
   "source": [
    "### **1ª Etapa**\n",
    "\n",
    "Começamos por gerar os parametros que seguem as restrições estabelecidas no enunciado:"
   ]
  },
  {
   "cell_type": "markdown",
   "metadata": {},
   "source": [
    "#### **Parameteros**\n",
    "\n",
    "- **Parametro de segurança (λ) = 128**\n",
    "\n",
    "```py\n",
    "        _lambda = 128  \n",
    "        lambda_bits = _lambda.nbits() # 128 in binary is 10000000 -> 8 bits\n",
    "```\n",
    "Quanto maior lambda, mais seguro o sistema, mas em aplicações modernas lambda = 128 é o mais usual.\n",
    "\n",
    "- **p : numero primo que define o grupo multiplicativo ℤₚ**\n",
    "```py   \n",
    "        while True:\n",
    "            k = randint(min_k, max_k)\n",
    "            p_candidate = k * q + 1\n",
    "            if is_prime(p_candidate) and p_candidate.nbits() >= min_p_bits:\n",
    "                p = p_candidate\n",
    "                break\n",
    "            k += 1\n",
    "```\n",
    "Isto significa que teremos um grupo com numeros de 1 a p-1, sendo este ultimo divisivel por q.\n",
    "Segundo o enunciado este terá ∣p∣≥λ×∣λ∣​ que neste caso serão 1024 bits.\n",
    "\n",
    "- **q : numero primo que define a ordem do subgrupo**\n",
    "```py \n",
    "        lower_bound = 2^(_lambda - 1)\n",
    "        upper_bound = 2^_lambda - 1\n",
    "        q_candidate = randint(lower_bound, upper_bound)\n",
    "        q = next_prime(q_candidate)\n",
    "```\n",
    "Garante a existencia do subgrupo e afeta diretamente a segurança do sistema: pois quanto maior lambda, maior q e maior é a resistencia do sistema contra ataques de logaritmo discreto.\n",
    "\n",
    "- **g : gerador do subgrupo de ordem g**\n",
    "\n",
    "```py\n",
    "        while True:\n",
    "            a = randint(2, p - 2)\n",
    "            g = power_mod(a, (p - 1) // q, p)\n",
    "            if g != 1:\n",
    "                break\n",
    "```\n",
    "O conjunto {g¹, g², g³, ..., g^q} gera todos os elementos do subgrupo\n",
    "\n",
    "#### **Par de Chaves**\n",
    "\n",
    "- **s : chave privada**\n",
    "\n",
    "```py\n",
    "        s = randint(1, q-1)\n",
    "```\n",
    "\n",
    "Numero aleatório entre 1 e q-1 que é mantido em segredo pelo proprietário e só usado para decifrar\n",
    "\n",
    "- **h : chave publica**\n",
    "\n",
    "```py\n",
    "        h = power_mod(g, s, p)\n",
    "```\n",
    "Esta chave é usada para cifrar as mensagens. É muito dificil chegar a s a partir de h (problema do logaritmo discreto)\n",
    "\n",
    "\n"
   ]
  },
  {
   "cell_type": "markdown",
   "metadata": {},
   "source": [
    "### **2ª Etapa**\n",
    "\n",
    "Após gerar os parametros podemos cifrar o texto. Este processo é probabilistico, o que significa que para a mesma mensagem podemos obter cifras diferentes, o que aumenta significativamente a segurança do sistema."
   ]
  },
  {
   "cell_type": "markdown",
   "metadata": {},
   "source": [
    "Começamos por gerar \n",
    "\n",
    "```py\n",
    "        omega = randint(0, q-1)\n",
    "```\n",
    "\n",
    "De seguida usamos omega para gerar gamma e kappa.\n",
    "\n",
    "```py\n",
    "        gamma = power_mod(g,omega,p)\n",
    "        kappa = power_mod(h,omega,p)\n",
    "```\n",
    "\n",
    "gamma faz parte do texto cifrado e é necessário para decifrar o ciphertext.\n",
    "\n",
    "```py\n",
    "        ciphertext = (mapped_plaintext * kappa) % p\n",
    "```\n",
    "\n",
    "Como vemos kappa é usado para cifrar o texto que será depois enviado ao recetor na forma (gamma,ciphertext)\n",
    "\n",
    "```py\n",
    "        return gamma,ciphertext\n",
    "```"
   ]
  },
  {
   "cell_type": "markdown",
   "metadata": {},
   "source": [
    "### **3ª Etapa**"
   ]
  },
  {
   "cell_type": "markdown",
   "metadata": {},
   "source": [
    "Para decifrar o ciphertext o receiver vai usar a chave privada s e o gamma. "
   ]
  },
  {
   "cell_type": "markdown",
   "metadata": {},
   "source": [
    "Começamos por fazer a operação reversa e obter kappa e o seu inverso.\n",
    "\n",
    "```py\n",
    "        kappa = power_mod(gamma, private_key, p)\n",
    "        kappa_inv = power_mod(kappa, -1, p)\n",
    "```\n",
    "\n",
    "Como é normal em esquemas PKE, a chave privada é então usada para decifrar o texto:\n",
    "\n",
    "```py\n",
    "    m = (ciphertext * kappa_inv) % p\n",
    "```\n"
   ]
  },
  {
   "cell_type": "markdown",
   "metadata": {},
   "source": [
    "# **El Gammal + Fujisaki-Okamoto (PKE)**"
   ]
  },
  {
   "cell_type": "markdown",
   "metadata": {},
   "source": [
    "A transformação de Fujisaki-Okamoto é um método que fortalece esquemas de encriptação probabilística, como o ElGamal que são IND-CPA.\n",
    "Esta transformação permite converter um esquema de cifra IND-CPA seguro para IND-CCA o que significa que o adversário não consegue distinguir entre duas mensagens cifradas, nem descobrir o nosso texto mesmo tendo acesso ao oráculo de decifrar."
   ]
  },
  {
   "cell_type": "markdown",
   "metadata": {},
   "source": [
    "Isto é alcançado da seguinte forma:\n",
    " - é incluído um parametro **r**  que adiciona **aleatoriedade** ao cifrar os dados\n",
    " - é incluido um **hash** no ciphertext que nos permite verificar a **autenticidade** dos mesmos"
   ]
  },
  {
   "cell_type": "markdown",
   "metadata": {},
   "source": [
    "Os parametros gerados pelo EL Gammal são os mesmos e esse processo é descrito a cima, por isso vamos nos focar nas diferenças que a transformação acrescenta"
   ]
  },
  {
   "cell_type": "markdown",
   "metadata": {},
   "source": [
    "### **1ª Etapa**\n",
    "\n",
    "Começamos por gerar $r$\n",
    "\n",
    "```py\n",
    "        r = randint(1, q - 1)\n",
    "```\n",
    "\n",
    "Este parametro substitui omega nos calculos de gamma e kappa, sendo depois combinado com o plaintext e cifrado com o mesmo. Isto vai nos permitir recuperar este valor mais tarde, o que possibilita a decifração do mesmo.\n",
    "Este passo é também das maiores valências da transformação, já que adiciona segurança ao fazer uso de um valor aleatório que é misturado com os dados.\n",
    "\n",
    "```py\n",
    "        combined = (r << 128) + m_int\n",
    "               \n",
    "```\n",
    "A transformação acaba com o cáculo do Hash deste r e com o seu posterior envio, assim o que é enviado para o receiver é o tuplo (Hash(r), gamma, ciphertext).\n",
    "\n",
    "```py\n",
    "        c_2 = H(r)\n",
    "        c_1 = (gamma, ciphertext)\n",
    "        \n",
    "        return c_1, c_2\n",
    "```"
   ]
  },
  {
   "cell_type": "markdown",
   "metadata": {},
   "source": [
    "### **2ª Etapa**\n",
    "\n",
    "Para decifrar o processo é mais uma vez análogo ao do El Gammal: começamos por calcular kappa e o seu inverso e apartir daí deciframos o texto.\n",
    "\n",
    "```py\n",
    "        combined = (encrypted_message * kappa_inv) % p\n",
    "```\n",
    "No entanto, como vimos ao cifrar, o r é combinado com o plaintext, por isso este tem que ser extraído\n",
    "\n",
    "```py\n",
    "        r = combined >> 128 \n",
    "```\n"
   ]
  },
  {
   "cell_type": "markdown",
   "metadata": {},
   "source": [
    "Com r retirado, podemos agora ver se os dados foram comprometidos calculado o hash do mesmo e comparando com o que nos foi enviado, algo que com o simples El Gammal nãp podia ser feito.\n",
    "\n",
    "\n",
    "```py\n",
    "\n",
    "        r_hash_calculated = H(r)\n",
    "        if r_hash_calculated != c_2:\n",
    "            raise ValueError(\"Ciphertext integrity check failed. The ciphertext may have been changed.\")\n",
    "\n",
    "```"
   ]
  },
  {
   "cell_type": "markdown",
   "metadata": {},
   "source": [
    "Com isto calculado temos a certeza que os nossos dados nao foram adulterados, obtendo assim o nosso plaintext "
   ]
  },
  {
   "cell_type": "markdown",
   "metadata": {},
   "source": [
    "# **El Gammal + Fujisaki-Okamoto (KEM)**"
   ]
  },
  {
   "cell_type": "markdown",
   "metadata": {},
   "source": [
    "O objetivo era fazer um KEM que fosse IND-CCA seguro.\n",
    "\n",
    "Para isso foi usada a implementação feita em 1(b)"
   ]
  },
  {
   "cell_type": "markdown",
   "metadata": {},
   "source": [
    "O Key Encapsulation Mechanism (KEM) é um esquema criptográfico projetado especificamente para gerar e proteger chaves simétricas de forma segura. O KEM é utilizado para gerar uma chave simétrica aleatória e encapsulá-la de forma segura, permitindo que ela seja transmitida através de canais inseguros."
   ]
  },
  {
   "attachments": {
    "image.png": {
     "image/png": "[encoded data removed]"
    }
   },
   "cell_type": "markdown",
   "metadata": {},
   "source": [
    "![image.png](attachment:image.png)"
   ]
  },
  {
   "cell_type": "markdown",
   "metadata": {},
   "source": [
    "### **1ª Etapa**\n",
    "\n",
    "Como feito anteriormente, começamos por gerar as chaves públicas e privadas a partir do El Gammal:\n",
    "\n",
    "```py\n",
    "    \n",
    "    pk = (p, q, g, h)\n",
    "    sk = s\n",
    "    \n",
    "    return pk, sk\n",
    "\n",
    "```"
   ]
  },
  {
   "cell_type": "markdown",
   "metadata": {},
   "source": [
    "### **2ª Etapa - Encapsulamento**\n",
    "\n",
    "Num esquema normal pegamos num texto, uma mensagem de um user por exemplo, e ciframos esse texto, num KEM, geramos um chave aleatória e encapsulamos essa chave"
   ]
  },
  {
   "cell_type": "markdown",
   "metadata": {},
   "source": [
    "Começamos por gerar uma chave de 128 bits \n",
    "\n",
    "```py\n",
    "        key_bytes = os.urandom(16)\n",
    "```\n",
    "\n",
    "De seguida esta key é tratada como se fosse o plaintext do El Gammal + Fujisaki Okamoto (IND-CCA) e é então encapsulada, usando r e kappa .\n",
    "\n",
    "```py \n",
    "        combined = (r << 128) + key\n",
    "        ciphertext = (combined * kappa) % p\n",
    "```"
   ]
  },
  {
   "cell_type": "markdown",
   "metadata": {},
   "source": [
    "O encapsulamento é depois enviado para o receiver.\n",
    "\n",
    "```py\n",
    "        encapsulation = (gamma, ciphertext, r_hash)\n",
    "```"
   ]
  },
  {
   "cell_type": "markdown",
   "metadata": {},
   "source": [
    "### **2ª Etapa - Cifrar o texto**\n",
    "\n",
    "A par do encapsulamento, temos que enviar ainda o texto cifrado.\n",
    "No nosso caso, escolhemos cifrar o texto fazendo um xor do plaintext com a key gerada:"
   ]
  },
  {
   "cell_type": "markdown",
   "metadata": {},
   "source": [
    "```py\n",
    "        ciphertext = bytearray()\n",
    "        \n",
    "        for m, k in zip(message_bytes, key_bytes):\n",
    "            ciphertext.append(int(m).__xor__(int(k)))\n",
    "```\n",
    "\n",
    "Notar que aqui foi usado ```__xor__``` em vez de ```^``` para a operação de xor por causa de um bug na tradução de operações"
   ]
  },
  {
   "cell_type": "markdown",
   "metadata": {},
   "source": [
    "### **3ª Etapa - Desencapsular**\n",
    "\n",
    "\n",
    "O receiver tem agora que desencapsular a key.\n",
    "\n",
    "Isto é análogo a decifrar um texto no El Gammal + Fujisaki Okamoto, em que calculamos kappa usando a chave privada, usamos r para verificar a integridade da key (key foi cifrada como r + key) e então concluímos se esta é a key que queremos\n",
    "\n",
    "```py\n",
    "        r = combined >> 128\n",
    "        key_int = combined & ((1 << 128) - 1)\n",
    "\n",
    "        if r_hash_calculated != r_hash:\n",
    "            raise ValueError(\"Encapsulation integrity check failed\")\n",
    "    \n",
    "        return key_bytes\n",
    "```"
   ]
  },
  {
   "cell_type": "markdown",
   "metadata": {},
   "source": [
    "### **3ª Etapa - Decifrar**\n",
    "\n",
    "Tendo a key desencapsulada e o ciphertext recebido, só temos que fazer um xor entre o ciphertext e a key e obtemos o plaintext:\n",
    "\n",
    "```py\n",
    "        for c, k in zip(ciphertext, key_bytes):\n",
    "            plaintext_bytes.append(int(c).__xor__(int(k)))\n",
    "\n",
    "        return plaintext_bytes\n",
    "```"
   ]
  },
  {
   "cell_type": "markdown",
   "metadata": {},
   "source": [
    "# **κ-out-of-n OBLIVIOUS TRANSFER (OT)**\n"
   ]
  },
  {
   "cell_type": "markdown",
   "metadata": {},
   "source": [
    "O OT é um protocolo que envolve dois agentes - Provider e Receiver.\n",
    "\n",
    "Neste protocolo o **Provider** tem um **conjunto de mensagens**, **n**, e o **receiver** quer receber um **subgrupo dessas mensagens**, **k**. \n",
    "\n",
    "A magia deste esquema está no facto de o **Provider não saber que mensagens o Receiver recebeu** e ainda o **Receiver conhece apenas as mensagens que escolheu**, nem mais nem menos. \n"
   ]
  },
  {
   "cell_type": "markdown",
   "metadata": {},
   "source": [
    "### **1ª Etapa - Gerar Oblivious Criterion (Provider)**\n",
    "\n",
    "Começamos por gerar os parametros necessários\n",
    "\n",
    "```py\n",
    "        _lambda = 128 \n",
    "        p_elgamal, q, g, h, s = parameter_generator(_lambda)\n",
    "        elgamal_params = (p_elgamal, q, g, h, s)\n",
    "```\n",
    "\n",
    "De seguida é criado Oblivious Criterion que é composto pela matriz A de tamanho [n, n-k] e o vetor u de tamanho [n-k].\n",
    "Antes disto é gerado o grupo Zq, em que q é primo\n",
    "\n",
    "```py\n",
    "        def generate_oblivious_criterion(n,kappa,q):\n",
    "                \n",
    "                Zq = GF(q)\n",
    "                \n",
    "                rho1 = os.urandom(16).hex()\n",
    "                rho2 = os.urandom(16).hex()\n",
    "\n",
    "                A = matrixA(Zq, n, n-kappa,rho1)\n",
    "\n",
    "                u = vectorU(Zq, n-kappa, rho2)                   \n",
    "\n",
    "                return A, u, (rho1, rho2)\n",
    "```\n",
    "\n",
    "A e u são construídos usando construtores do sage e seeds rho1 e rho2 que são numeros aleatórios\n",
    "\n",
    "```py\n",
    "        def matrixA(Gf, lines, cols, seed):\n",
    "                A = matrix(Gf, lines, cols)\n",
    "                for i in range(lines):\n",
    "                        for j in range(cols):\n",
    "                        A[i,j] = Gf(H(str(seed) + str(i) + str(j), length=q.nbits())) \n",
    "                return A\n",
    "\n",
    "        def vectorU(Gf, cols, seed):\n",
    "                u = vector(Gf, cols)\n",
    "                for i in range(cols):\n",
    "                        u[i] = Gf(H(str(seed) + str(i), length=q.nbits()))\n",
    "                return u\n",
    "```"
   ]
  },
  {
   "cell_type": "markdown",
   "metadata": {},
   "source": [
    "### **2ª Etapa - Gerar vetor de consulta (Receiver)**\n",
    "\n",
    "O vetor de consulta é a estrutura criada pelo receiver para comprovar ao provider que está a fazer uma escolha justa, isto é, não está a pedir mais mensagens com que as que se comprometeu inicialmente.\n",
    "\n",
    "\n",
    "```py\n",
    "    def generate_query_vector(A, u, selected_indices, q,p):\n",
    "        \n",
    "        n, n_minus_kappa = A.dimensions()\n",
    "        kappa = n - n_minus_kappa\n",
    "        \n",
    "        if len(selected_indices) != kappa:\n",
    "            raise ValueError(f\"O receiver não escolheu {kappa} índices\")\n",
    "        \n",
    "        good_keys, tag, p_vector, secret = compute_goodKeys(selected_indices, n,elgamal_params)\n",
    "        \n",
    "        p_vector = complete_p_vector(GF(p), A, u, selected_indices, p_vector)\n",
    "        \n",
    "        return p_vector, tag, good_keys\n",
    "```\n",
    "\n",
    "\n",
    "Primeiramente o vetor p é inicializado com as chaves ditas \"boas\", ou seja, correspondentes aos indices das mensagens que são realmente para entregar ao receiver.\n",
    "\n",
    "\n",
    "```py\n",
    "    def compute_goodKeys (selected_indices, n, elgamal_params):\n",
    "        \n",
    "        p_vector = [None] * n\n",
    "        good_keys = {}\n",
    "        \n",
    "        p, q, g, h, master_private_key = elgamal_params\n",
    "\n",
    "        for i in selected_indices:\n",
    "            private_key = randint(1, q - 1)\n",
    "            public_key = power_mod(g, private_key, p)\n",
    "            good_keys[i] = (public_key, private_key)\n",
    "            p_vector[i] = public_key\n",
    "        \n",
    "        secret = os.urandom(_lambda // 8)\n",
    "        indices_bytes = b\"\".join([i.to_bytes(4, 'big') for i in selected_indices])\n",
    "        \n",
    "        tag = hashlib.sha256(indices_bytes + secret).digest()\n",
    "        \n",
    "        return good_keys, tag, p_vector, secret\n",
    "```\n",
    "\n",
    "\n",
    "Para cada índice \\( i \\) selecionado, gera-se um par de chaves ElGamal:\n",
    "\n",
    "\n",
    "$$\\text{private\\_key}_i = \\text{randint}(1, q - 1)$$\n",
    "\n",
    "\n",
    "$$\\text{public\\_key}_i = g^{\\text{private\\_key}_i} \\mod p$$\n",
    "\n",
    "\n",
    "O vetor \\( p \\) é inicializado com estas chaves públicas:\n",
    "\n",
    "\n",
    "$$p[i] = \\text{public\\_key}_i, \\quad \\forall i \\in \\text{selected\\_indices}$$\n",
    "\n",
    "\n",
    "Além disso, gera-se um *tag*:\n",
    "\n",
    "\n",
    "$$\\text{tag} = H\\left(\\sum_{i \\in \\text{selected\\_indices}} i + \\text{secret}\\right)$$\n",
    "\n",
    "\n",
    "onde \\( H \\) é uma função de hash (SHA-256) e *secret* é um valor aleatório.\n",
    "\n",
    "\n",
    "```py\n",
    "    def complete_p_vector(Zq, A, u, selected_indices,p_vector):\n",
    "        n = A.nrows()\n",
    "        \n",
    "        all_indices = set(range(n))\n",
    "        unselected_indices = sorted(list(all_indices - set(selected_indices)))\n",
    "        \n",
    "        R = vector(Zq, u)\n",
    "        for i in selected_indices:\n",
    "            if p_vector[i] is not None:  \n",
    "                row = vector(Zq, A[i])\n",
    "                R -= p_vector[i] * row\n",
    "                \n",
    "        B_rows = [vector(Zq, A[j]) for j in unselected_indices]\n",
    "        B = matrix(Zq, B_rows)\n",
    "        \n",
    "        B_inv = B.inverse()\n",
    "        X = R * B_inv\n",
    "        \n",
    "        for idx, j in enumerate(unselected_indices):\n",
    "            p_vector[j] = int(X[idx])\n",
    "            \n",
    "        return p_vector\n",
    "```\n",
    "\n",
    "Primeiro, calcula-se o vetor \\( R \\):\n",
    "\n",
    "$$R = u - \\sum_{i \\in \\text{selected\\_indices}} p[i] \\cdot A[i]$$\n",
    "\n",
    "onde \\( A[i] \\) são as linhas da matriz \\( A \\) correspondentes aos índices selecionados.\n",
    "\n",
    "Define-se a matriz \\( B \\) composta pelas linhas não selecionadas:\n",
    "\n",
    "\n",
    "$$B =\n",
    "\\begin{bmatrix}\n",
    "A[j_1] \\\\\n",
    "A[j_2] \\\\\n",
    "\\vdots \\\\\n",
    "A[j_{n-k}]\n",
    "\\end{bmatrix}$$\n",
    "\n",
    "Calcula-se \\( X \\):\n",
    "\n",
    "$$X = B^{-1} R$$\n",
    "\n",
    "Finalmente, os valores de \\( p \\) para os índices não selecionados são definidos como:\n",
    "\n",
    "$$p[j] = X[j], \\quad \\forall j \\notin \\text{selected\\_indices}$$\n"
   ]
  },
  {
   "cell_type": "markdown",
   "metadata": {},
   "source": [
    "### **3ª Etapa - Verificar critério (Provider)**\n",
    "\n",
    "O Provider verifica então se o vetor  satisfaz a equação , garantindo que o Receiver não está a tentar recuperar mais do que k mensagens:\n",
    "\n",
    "```py\n",
    "    def verify_criterion(p_vector, A, u, p):\n",
    "        Zq = GF(p)\n",
    "        n = len(p_vector)\n",
    "        d = len(u)\n",
    "        \n",
    "        total = vector(Zq, [0] * d)\n",
    "        for i in range(n):\n",
    "            row = vector(Zq, A[i])\n",
    "            total += (p_vector[i] % p) * row\n",
    "            \n",
    "        u_vec = vector(Zq, u)\n",
    "        return total == u_vec\n",
    "```\n",
    "\n",
    "$$\\sum_{i=0}^{n-1} p[i]A[i]=u$$"
   ]
  },
  {
   "cell_type": "markdown",
   "metadata": {},
   "source": [
    "### **4ª Etapa - Cifrar mensagens (Provider)**\n"
   ]
  },
  {
   "cell_type": "markdown",
   "metadata": {},
   "source": [
    "### **5ª Etapa - Decifrar mensagens (Receiver)**"
   ]
  }
 ],
 "metadata": {
  "language_info": {
   "name": "python"
  }
 },
 "nbformat": 4,
 "nbformat_minor": 2
}
